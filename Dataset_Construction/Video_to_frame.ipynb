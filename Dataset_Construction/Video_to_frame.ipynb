{
 "cells": [
  {
   "cell_type": "code",
   "execution_count": 1,
   "metadata": {},
   "outputs": [],
   "source": [
    "import cv2 as cv\n",
    "import numpy as np\n",
    "import os\n",
    "import matplotlib.pyplot as plt # plt 用于显示图片\n",
    "import matplotlib.image as mpimg # mpimg 用于读取图片\n",
    "from PIL import Image\n",
    "from PIL import ImageEnhance\n",
    "import random"
   ]
  },
  {
   "cell_type": "code",
   "execution_count": 4,
   "metadata": {},
   "outputs": [],
   "source": [
    "def save_image(image,addr,num):\n",
    "    address = addr + str(num)+ '.jpg'\n",
    "    cv.imwrite(address,image)"
   ]
  },
  {
   "cell_type": "code",
   "execution_count": 2,
   "metadata": {},
   "outputs": [
    {
     "data": {
      "text/plain": [
       "'1.15.4'"
      ]
     },
     "execution_count": 2,
     "metadata": {},
     "output_type": "execute_result"
    }
   ],
   "source": [
    "np.__version__"
   ]
  },
  {
   "cell_type": "markdown",
   "metadata": {},
   "source": [
    "# 视频转换为帧"
   ]
  },
  {
   "cell_type": "code",
   "execution_count": 6,
   "metadata": {},
   "outputs": [],
   "source": [
    "video_root_path = 'D:\\\\UCB_ML\\\\gesture_dataset\\\\Gesture_DIY_Video_v2\\\\Gesture_DIY_Video_Calvin'   #不同的人的视频要改\n",
    "frame_root_path = './gesture_dataset/Gesture_DIY_Dataset_v3'"
   ]
  },
  {
   "cell_type": "code",
   "execution_count": 10,
   "metadata": {},
   "outputs": [
    {
     "name": "stdout",
     "output_type": "stream",
     "text": [
      "Video 0.mp4 has been converted to frames!\n",
      "Video 1.mp4 has been converted to frames!\n",
      "Video 10.mp4 has been converted to frames!\n",
      "Video 2.mp4 has been converted to frames!\n",
      "Video 3.mp4 has been converted to frames!\n",
      "Video 4.mp4 has been converted to frames!\n",
      "Video 5.mp4 has been converted to frames!\n",
      "Video 6.mp4 has been converted to frames!\n",
      "Video 7.mp4 has been converted to frames!\n",
      "Video 8.mp4 has been converted to frames!\n",
      "Video 9.mp4 has been converted to frames!\n",
      "Video A.mp4 has been converted to frames!\n",
      "Video B.mp4 has been converted to frames!\n",
      "Video C.mp4 has been converted to frames!\n",
      "Video D.mp4 has been converted to frames!\n",
      "Video E.mp4 has been converted to frames!\n",
      "Video F.mp4 has been converted to frames!\n",
      "Video G.mp4 has been converted to frames!\n",
      "Video H.mp4 has been converted to frames!\n",
      "Video I.mp4 has been converted to frames!\n",
      "Video J.mp4 has been converted to frames!\n",
      "Video K.mp4 has been converted to frames!\n",
      "Video L.mp4 has been converted to frames!\n",
      "Video M.mp4 has been converted to frames!\n",
      "Video N.mp4 has been converted to frames!\n",
      "Video O.mp4 has been converted to frames!\n",
      "Video P.mp4 has been converted to frames!\n",
      "Video Q.mp4 has been converted to frames!\n",
      "Video R.mp4 has been converted to frames!\n",
      "Video S.mp4 has been converted to frames!\n",
      "Video T.mp4 has been converted to frames!\n",
      "Video U.mp4 has been converted to frames!\n",
      "Video V.mp4 has been converted to frames!\n",
      "Video W.mp4 has been converted to frames!\n",
      "Video X.mp4 has been converted to frames!\n",
      "Video Y.mp4 has been converted to frames!\n",
      "Video Z.mp4 has been converted to frames!\n"
     ]
    }
   ],
   "source": [
    "for _,_,videos in os.walk(video_root_path):\n",
    "    \n",
    "    for video in videos:\n",
    "        abs_path = video_root_path + '/' + video\n",
    "        \n",
    "        label = ((os.path.basename(abs_path)).split('.'))[0]\n",
    "        \n",
    "#         if label.upper() not in ['2']:\n",
    "#             continue\n",
    "        \n",
    "        whosehand = os.path.basename(video_root_path).split('_')[-1]\n",
    "        \n",
    "        if not os.path.exists(frame_root_path + '/' + label):\n",
    "            os.mkdir(frame_root_path + '/' + label)\n",
    "        \n",
    "        videoCapture = cv.VideoCapture(abs_path)\n",
    "        success, frame = videoCapture.read()\n",
    "        \n",
    "        i = 0\n",
    "        while success:\n",
    "            i = i + 1\n",
    "            \n",
    "#             frame=cv.transpose(frame)\n",
    "#             frame=cv.flip(frame,flipCode=1)    #顺时针旋转90度\n",
    "            \n",
    "            save_image(frame,frame_root_path + '/' + label + '/' + whosehand,i)\n",
    "            if i == 400:\n",
    "                break\n",
    "            success, frame = videoCapture.read()\n",
    "        \n",
    "        print('Video {} has been converted to frames!'.format(video))\n",
    "        "
   ]
  },
  {
   "cell_type": "markdown",
   "metadata": {},
   "source": [
    "# 数据增强函数"
   ]
  },
  {
   "cell_type": "code",
   "execution_count": 87,
   "metadata": {},
   "outputs": [],
   "source": [
    "def flip(root_path='',img_name='',image_data=None):   #翻转图像\n",
    "    if image_data != None:\n",
    "        img = image_data\n",
    "    else:\n",
    "        img = Image.open(os.path.join(root_path, img_name))\n",
    "    flip_img = img.transpose(Image.FLIP_LEFT_RIGHT)\n",
    "    # filp_img.save(os.path.join(root_path,img_name.split('.')[0] + '_flip.jpg'))\n",
    "    return flip_img\n",
    "\n",
    "def rotation(root_path='',img_name='',image_data=None):\n",
    "    if image_data:\n",
    "        img = image_data\n",
    "    else:\n",
    "        img = Image.open(os.path.join(root_path, img_name))\n",
    "    rotation_img = img.rotate(20) #旋转角度\n",
    "    # rotation_img.save(os.path.join(root_path,img_name.split('.')[0] + '_rotation.jpg'))\n",
    "    return rotation_img\n",
    "\n",
    "def randomColor(root_path='',img_name='',image_data=None): #随机颜色\n",
    "    \"\"\"\n",
    "    对图像进行颜色抖动\n",
    "    :param image: PIL的图像image\n",
    "    :return: 有颜色色差的图像image\n",
    "    \"\"\"\n",
    "    if image_data:\n",
    "        image = image_data\n",
    "    else:\n",
    "        image = Image.open(os.path.join(root_path, img_name))\n",
    "    random_factor = np.random.randint(0, 31) / 10.  # 随机因子\n",
    "    color_image = ImageEnhance.Color(image).enhance(random_factor)  # 调整图像的饱和度\n",
    "    random_factor = np.random.randint(10, 21) / 10.  # 随机因子\n",
    "    brightness_image = ImageEnhance.Brightness(color_image).enhance(random_factor)  # 调整图像的亮度\n",
    "    random_factor = np.random.randint(10, 21) / 10.  # 随机因子\n",
    "    contrast_image = ImageEnhance.Contrast(brightness_image).enhance(random_factor)  # 调整图像对比度\n",
    "    random_factor = np.random.randint(0, 31) / 10.  # 随机因子\n",
    "    return ImageEnhance.Sharpness(contrast_image).enhance(random_factor)  # 调整图像锐度\n",
    "\n",
    "\n",
    "def contrastEnhancement(root_path='',img_name='',image_data=None):  # 对比度增强\n",
    "    if image_data:\n",
    "        image = image_data\n",
    "    else:\n",
    "        image = Image.open(os.path.join(root_path, img_name))\n",
    "    enh_con = ImageEnhance.Contrast(image)\n",
    "    contrast = 1.5\n",
    "    image_contrasted = enh_con.enhance(contrast)\n",
    "    return image_contrasted\n",
    "\n",
    "def brightnessEnhancement(root_path='',img_name='',image_data=None):#亮度增强\n",
    "    if image_data:\n",
    "        image = image_data\n",
    "    else:\n",
    "        image = Image.open(os.path.join(root_path, img_name))\n",
    "    enh_bri = ImageEnhance.Brightness(image)\n",
    "    brightness = 1.5\n",
    "    image_brightened = enh_bri.enhance(brightness)\n",
    "    return image_brightened\n",
    "\n",
    "def colorEnhancement(root_path='',img_name='',image_data=None):#颜色增强\n",
    "    if image_data:\n",
    "        image = image_data\n",
    "    else:\n",
    "        image = Image.open(os.path.join(root_path, img_name))\n",
    "    enh_col = ImageEnhance.Color(image)\n",
    "    color = 1.5\n",
    "    image_colored = enh_col.enhance(color)\n",
    "    return image_colored\n",
    "\n",
    "def gauss_noise(root_path='',img_name='',image_data=None, mean=0, var=0.001):\n",
    "\n",
    "    '''\n",
    "\n",
    "        添加高斯噪声\n",
    "\n",
    "        mean : 均值\n",
    "\n",
    "        var : 方差\n",
    "\n",
    "    '''\n",
    "    if image_data:\n",
    "        image = image_data\n",
    "    else:\n",
    "        image = Image.open(os.path.join(root_path, img_name))\n",
    "    image = np.array(image)/255.0\n",
    "    noise = np.random.normal(mean, var ** 0.5, image.shape)\n",
    "    out = image + noise\n",
    "    out = np.clip(out, 0, 1.0)\n",
    "    out = np.uint8(out*255)\n",
    "    out = Image.fromarray(out)\n",
    "    return out"
   ]
  },
  {
   "cell_type": "code",
   "execution_count": 54,
   "metadata": {},
   "outputs": [],
   "source": [
    "img_name = 'Jeremy27.jpg'\n",
    "label = '0'\n",
    "img_path = os.path.join(label,img_name)\n",
    "\n",
    "#左右翻转\n",
    "# new_img = flip(frame_root_path,img_path)\n",
    "# new_img.show()\n",
    "\n",
    "#随机颜色\n",
    "# new_img = randomColor(frame_root_path,img_path)\n",
    "# new_img.show()\n",
    "\n",
    "#对比度增强\n",
    "# new_img = contrastEnhancement(frame_root_path,img_path)\n",
    "# new_img.show()\n",
    "\n",
    "#亮度增强\n",
    "# new_img = brightnessEnhancement(frame_root_path,img_path)\n",
    "# new_img.show()\n",
    "\n",
    "#颜色增强\n",
    "# new_img = colorEnhancement(frame_root_path,img_path)\n",
    "# new_img.show()\n",
    "\n",
    "#高斯噪声\n",
    "new_img = gauss_noise(frame_root_path,img_path)\n",
    "new_img.show()"
   ]
  },
  {
   "cell_type": "markdown",
   "metadata": {},
   "source": [
    "# 图片统一缩放 + 数据增强"
   ]
  },
  {
   "cell_type": "code",
   "execution_count": 108,
   "metadata": {},
   "outputs": [],
   "source": [
    "frame_root_path = './gesture_dataset/Gesture_DIY_Dataset_v2'\n",
    "frame_small_root_path = './gesture_dataset/Gesture_DIY_Dataset_v2_aug'\n",
    "resize_height = 160\n",
    "resize_width = 90\n",
    "\n",
    "aug_funcs = ['randomColor','contrastEnhancement','brightnessEnhancement','colorEnhancement','gauss_noise','flip']\n",
    "augfunc_map = {'flip':flip,\n",
    "               'randomColor':randomColor,\n",
    "               'contrastEnhancement':contrastEnhancement,\n",
    "               'brightnessEnhancement':brightnessEnhancement,\n",
    "               'colorEnhancement':colorEnhancement,\n",
    "               'gauss_noise':gauss_noise}\n",
    "label_name = ['0','1','2','3','4','5','6','7','8','9','10'\n",
    "              ,'A','B','C','D','E','F','G','H','I','J','K','L','M','N','O','P','Q','R','S','T','U','V','W','X','Y','Z']\n",
    "# label_check = ['0']"
   ]
  },
  {
   "cell_type": "code",
   "execution_count": 109,
   "metadata": {},
   "outputs": [],
   "source": [
    "def image_process(label_name,frame_root_path,frame_small_root_path,need_aug=True,need_resize=True):\n",
    "    is_root = True\n",
    "\n",
    "    for label in label_name:\n",
    "        root_path = frame_root_path + '/' + label\n",
    "\n",
    "        for _,_,pics in os.walk(root_path):\n",
    "            i = 0\n",
    "\n",
    "            for pic in pics:\n",
    "                i = i + 1\n",
    "                abs_path = root_path + '/' + pic\n",
    "                \n",
    "                augmentations = []\n",
    "                if need_aug:\n",
    "                    #选择要不要做数据增强\n",
    "                    if np.random.rand() <= 0.5:  #翻转\n",
    "                        augmentations.append('flip')\n",
    "                    if np.random.rand() <= 0.2:  #高斯噪声\n",
    "                        augmentations.append('gauss_noise')\n",
    "                    if np.random.rand() <= 0.2:  #颜色增强\n",
    "                        index = np.random.choice(3)\n",
    "                        augmentations.append(aug_funcs[index])\n",
    "\n",
    "                #读取并resize图片\n",
    "                label_img_path = os.path.join(label,pic)\n",
    "                img_raw = Image.open(os.path.join(frame_root_path, label_img_path))\n",
    "                \n",
    "                if need_resize:\n",
    "                    img_resize = img_raw.resize((resize_width,resize_height), Image.ANTIALIAS)\n",
    "                else:\n",
    "                    img_resize = img_raw\n",
    "\n",
    "                #若非空，则进行数据增强\n",
    "                if augmentations:\n",
    "                    for augmentation in augmentations:\n",
    "                        img_resize = augfunc_map[augmentation](image_data=img_resize)\n",
    "\n",
    "                if not os.path.exists(frame_small_root_path + '/' + label):\n",
    "                    os.mkdir(frame_small_root_path + '/' + label)\n",
    "\n",
    "                save_path = os.path.join(frame_small_root_path,label_img_path)\n",
    "                img_resize.save(save_path, quality = 95)\n",
    "\n",
    "        print('All pictures of label {} is shrinked and augmented!!'.format(label))"
   ]
  },
  {
   "cell_type": "code",
   "execution_count": 110,
   "metadata": {},
   "outputs": [
    {
     "name": "stdout",
     "output_type": "stream",
     "text": [
      "All pictures of label 0 is shrinked and augmented!!\n",
      "All pictures of label 1 is shrinked and augmented!!\n",
      "All pictures of label 2 is shrinked and augmented!!\n",
      "All pictures of label 3 is shrinked and augmented!!\n",
      "All pictures of label 4 is shrinked and augmented!!\n",
      "All pictures of label 5 is shrinked and augmented!!\n",
      "All pictures of label 6 is shrinked and augmented!!\n",
      "All pictures of label 7 is shrinked and augmented!!\n",
      "All pictures of label 8 is shrinked and augmented!!\n",
      "All pictures of label 9 is shrinked and augmented!!\n",
      "All pictures of label 10 is shrinked and augmented!!\n",
      "All pictures of label A is shrinked and augmented!!\n",
      "All pictures of label B is shrinked and augmented!!\n",
      "All pictures of label C is shrinked and augmented!!\n",
      "All pictures of label D is shrinked and augmented!!\n",
      "All pictures of label E is shrinked and augmented!!\n",
      "All pictures of label F is shrinked and augmented!!\n",
      "All pictures of label G is shrinked and augmented!!\n",
      "All pictures of label H is shrinked and augmented!!\n",
      "All pictures of label I is shrinked and augmented!!\n",
      "All pictures of label J is shrinked and augmented!!\n",
      "All pictures of label K is shrinked and augmented!!\n",
      "All pictures of label L is shrinked and augmented!!\n",
      "All pictures of label M is shrinked and augmented!!\n",
      "All pictures of label N is shrinked and augmented!!\n",
      "All pictures of label O is shrinked and augmented!!\n",
      "All pictures of label P is shrinked and augmented!!\n",
      "All pictures of label Q is shrinked and augmented!!\n",
      "All pictures of label R is shrinked and augmented!!\n",
      "All pictures of label S is shrinked and augmented!!\n",
      "All pictures of label T is shrinked and augmented!!\n",
      "All pictures of label U is shrinked and augmented!!\n",
      "All pictures of label V is shrinked and augmented!!\n",
      "All pictures of label W is shrinked and augmented!!\n",
      "All pictures of label X is shrinked and augmented!!\n",
      "All pictures of label Y is shrinked and augmented!!\n",
      "All pictures of label Z is shrinked and augmented!!\n"
     ]
    }
   ],
   "source": [
    "image_process(label_name,frame_root_path,frame_small_root_path,need_resize=False)"
   ]
  },
  {
   "cell_type": "code",
   "execution_count": 100,
   "metadata": {},
   "outputs": [],
   "source": [
    "img_raw = Image.open(os.path.join(frame_root_path, os.path.join('0','Jeremy27.jpg')))\n",
    "img_resize = img_raw.resize((resize_width,resize_height), Image.ANTIALIAS)\n",
    "\n",
    "img_resize = augfunc_map['flip'](image_data=img_resize)\n",
    "# img_resize = flip(image_data=img_resize)\n",
    "img_resize.save('D:\\\\UCB_ML\\\\gesture_dataset\\\\Gesture_DIY_Dataset_v4\\\\pil_test.jpg',quality = 95)"
   ]
  },
  {
   "cell_type": "markdown",
   "metadata": {},
   "source": [
    "# 转换图片为二值图像"
   ]
  },
  {
   "cell_type": "code",
   "execution_count": 147,
   "metadata": {},
   "outputs": [
    {
     "name": "stdout",
     "output_type": "stream",
     "text": [
      "<class 'numpy.ndarray'>\n",
      "146.59416666666667\n"
     ]
    },
    {
     "data": {
      "text/plain": [
       "<matplotlib.image.AxesImage at 0x2971f15e668>"
      ]
     },
     "execution_count": 147,
     "metadata": {},
     "output_type": "execute_result"
    },
    {
     "data": {
      "image/png": "[encoded data removed]",
      "text/plain": [
       "<Figure size 432x288 with 1 Axes>"
      ]
     },
     "metadata": {
      "needs_background": "light"
     },
     "output_type": "display_data"
    }
   ],
   "source": [
    "test = cv.imread('./gesture_dataset/Gesture_DIY_Dataset_v2/T/Jeremy100.jpg')\n",
    "test_rgb = cv.cvtColor(test,cv.COLOR_BGR2RGB)\n",
    "plt.imshow(test_rgb)\n",
    "\n",
    "test_gray = cv.cvtColor(test,cv.COLOR_BGR2GRAY)\n",
    "test_gray_rgb = cv.cvtColor(test_gray,cv.COLOR_BGR2RGB)\n",
    "plt.imshow(test_gray_rgb)\n",
    "\n",
    "print(type(test_gray_rgb))\n",
    "print(np.mean(test_gray_rgb))\n",
    "mean = np.mean(test_gray_rgb)\n",
    "\n",
    "ret, test_thresh_rgb = cv.threshold(test_gray_rgb,mean,255,cv.THRESH_BINARY)\n",
    "plt.imshow(test_thresh_rgb)"
   ]
  },
  {
   "cell_type": "code",
   "execution_count": null,
   "metadata": {},
   "outputs": [],
   "source": []
  },
  {
   "cell_type": "code",
   "execution_count": 76,
   "metadata": {},
   "outputs": [
    {
     "data": {
      "text/plain": [
       "'./gesture_dataset/Gesture_DIY_Dataset_v1\\\\'"
      ]
     },
     "execution_count": 76,
     "metadata": {},
     "output_type": "execute_result"
    }
   ],
   "source": [
    "'./gesture_dataset/Gesture_DIY_Dataset_v1\\P'[:-1]"
   ]
  },
  {
   "cell_type": "code",
   "execution_count": 79,
   "metadata": {},
   "outputs": [
    {
     "data": {
      "text/plain": [
       "<matplotlib.image.AxesImage at 0x2971d623d68>"
      ]
     },
     "execution_count": 79,
     "metadata": {},
     "output_type": "execute_result"
    },
    {
     "data": {
      "image/png": "[encoded data removed]",
      "text/plain": [
       "<Figure size 432x288 with 1 Axes>"
      ]
     },
     "metadata": {
      "needs_background": "light"
     },
     "output_type": "display_data"
    }
   ],
   "source": [
    "test = cv.imread('./gesture_dataset/Gesture_DIY_Dataset_v1/0/Jeremy13.jpg')\n",
    "plt.imshow(test)"
   ]
  },
  {
   "cell_type": "code",
   "execution_count": 45,
   "metadata": {},
   "outputs": [
    {
     "name": "stdout",
     "output_type": "stream",
     "text": [
      "(1280, 720, 3)\n",
      "(1920, 1080, 3)\n",
      "(1280, 720, 3)\n"
     ]
    },
    {
     "data": {
      "image/png": "[encoded data removed]",
      "text/plain": [
       "<Figure size 432x288 with 1 Axes>"
      ]
     },
     "metadata": {
      "needs_background": "light"
     },
     "output_type": "display_data"
    },
    {
     "name": "stdout",
     "output_type": "stream",
     "text": [
      "(160, 90, 3)\n"
     ]
    },
    {
     "data": {
      "image/png": "[encoded data removed]",
      "text/plain": [
       "<Figure size 432x288 with 1 Axes>"
      ]
     },
     "metadata": {
      "needs_background": "light"
     },
     "output_type": "display_data"
    }
   ],
   "source": [
    "img_path = frame_root_path + '/' + '2/Alan13.jpg'\n",
    "pic_alan = cv.imread(img_path)\n",
    "print(pic_alan.shape)\n",
    "\n",
    "img_path = frame_root_path + '/' + '2/Calvin13.jpg'\n",
    "pic_calvin = cv.imread(img_path)\n",
    "print(pic_calvin.shape)\n",
    "\n",
    "img_path = frame_root_path + '/' + '2/Jeremy13.jpg'\n",
    "pic_jeremy = cv.imread(img_path)\n",
    "print(pic_jeremy.shape)\n",
    "\n",
    "plt.imshow(pic_jeremy) # 显示图片\n",
    "plt.axis('off') # 不显示坐标轴\n",
    "plt.show()\n",
    "\n",
    "resize_height = 160\n",
    "resize_width = 90\n",
    "pic_resize = cv.resize(pic_jeremy, (resize_width, resize_height), interpolation=cv.INTER_CUBIC)\n",
    "print(pic_resize.shape)\n",
    "\n",
    "plt.imshow(pic_resize) # 显示图片\n",
    "plt.axis('off') # 不显示坐标轴\n",
    "plt.show()\n",
    "# cv.imshow('', pic)"
   ]
  },
  {
   "cell_type": "code",
   "execution_count": 28,
   "metadata": {},
   "outputs": [],
   "source": [
    "#视频路径\n",
    "abs_path = \"D:\\\\UCB_ML\\\\gesture_dataset\\\\Gesture_DIY_Video\\\\A.mp4\"\n",
    "# 读取视频文件\n",
    "videoCapture = cv2.VideoCapture(\"2.mp4\")"
   ]
  },
  {
   "cell_type": "code",
   "execution_count": 30,
   "metadata": {},
   "outputs": [],
   "source": [
    "#读帧\n",
    "success, frame = videoCapture.read()\n",
    "frame_rgb = cv.cvtColor(frame,cv.COLOR_BGR2RGB)\n",
    "# print(type(frame))\n",
    "# plt.imshow(frame_rgb) # 显示图片\n",
    "# plt.axis('off') # 不显示坐标轴\n",
    "# plt.show()\n",
    "\n",
    "#保存帧到文件夹\n",
    "label = os.path.basename(abs_path).split('.')[0]\n",
    "\n",
    "i = 0\n",
    "while success:\n",
    "    i = i + 1\n",
    "    save_image(frame,'./gesture_dataset/Gesture_DIY_Dataset/' + label + '/',i)\n",
    "#     if success:\n",
    "#         print('save image:',i)\n",
    "    success, frame = videoCapture.read()"
   ]
  },
  {
   "cell_type": "code",
   "execution_count": 37,
   "metadata": {},
   "outputs": [],
   "source": [
    "if not os.path.exists('./gesture_dataset/Gesture_DIY_Dataset/B'):\n",
    "    os.mkdir('./gesture_dataset/Gesture_DIY_Dataset/B')\n",
    "# !md D:\\UCB_ML\\gesture_dataset\\Gesture_DIY_Dataset\\B"
   ]
  },
  {
   "cell_type": "code",
   "execution_count": 15,
   "metadata": {},
   "outputs": [
    {
     "name": "stdout",
     "output_type": "stream",
     "text": [
      "420 ms ± 7.4 ms per loop (mean ± std. dev. of 7 runs, 1 loop each)\n"
     ]
    }
   ],
   "source": [
    "%%timeit\n",
    "total = 0\n",
    "for i in range(1000):\n",
    "    for j in range(1000):\n",
    "        total += i * (-1) ** j"
   ]
  },
  {
   "cell_type": "code",
   "execution_count": 28,
   "metadata": {},
   "outputs": [
    {
     "name": "stdout",
     "output_type": "stream",
     "text": [
      "Wall time: 487 ms\n"
     ]
    }
   ],
   "source": [
    "%%time\n",
    "total = 0\n",
    "for i in range(1000):\n",
    "    for j in range(1000):\n",
    "        total += i * (-1) ** j"
   ]
  },
  {
   "cell_type": "code",
   "execution_count": 46,
   "metadata": {},
   "outputs": [],
   "source": [
    "def sum_of_lists(N):\n",
    "    total = 0\n",
    "    for i in range(5):\n",
    "        L = [j ^ (j >> i) for j in range(N)]\n",
    "        total += sum(L)\n",
    "    return total"
   ]
  },
  {
   "cell_type": "code",
   "execution_count": 47,
   "metadata": {},
   "outputs": [
    {
     "name": "stdout",
     "output_type": "stream",
     "text": [
      " "
     ]
    }
   ],
   "source": [
    "%prun sum_of_lists(1000000)"
   ]
  },
  {
   "cell_type": "code",
   "execution_count": 48,
   "metadata": {},
   "outputs": [
    {
     "name": "stdout",
     "output_type": "stream",
     "text": [
      "2038036892544\n"
     ]
    }
   ],
   "source": [
    "print(sum_of_lists(1000000))"
   ]
  },
  {
   "cell_type": "code",
   "execution_count": 55,
   "metadata": {},
   "outputs": [
    {
     "name": "stdout",
     "output_type": "stream",
     "text": [
      "Exception reporting mode: Context\n"
     ]
    }
   ],
   "source": [
    "%xmode context"
   ]
  },
  {
   "cell_type": "code",
   "execution_count": 2,
   "metadata": {},
   "outputs": [],
   "source": [
    "def func1(a,b):\n",
    "    return a/b"
   ]
  },
  {
   "cell_type": "code",
   "execution_count": 59,
   "metadata": {},
   "outputs": [
    {
     "ename": "ZeroDivisionError",
     "evalue": "division by zero",
     "output_type": "error",
     "traceback": [
      "\u001b[1;31m---------------------------------------------------------------------------\u001b[0m",
      "\u001b[1;31mZeroDivisionError\u001b[0m                         Traceback (most recent call last)",
      "\u001b[1;32m<ipython-input-59-6daaa70c9569>\u001b[0m in \u001b[0;36m<module>\u001b[1;34m\u001b[0m\n\u001b[1;32m----> 1\u001b[1;33m \u001b[0mprint\u001b[0m\u001b[1;33m(\u001b[0m\u001b[0mfunc1\u001b[0m\u001b[1;33m(\u001b[0m\u001b[1;36m5\u001b[0m\u001b[1;33m,\u001b[0m\u001b[1;36m0\u001b[0m\u001b[1;33m)\u001b[0m\u001b[1;33m)\u001b[0m\u001b[1;33m\u001b[0m\u001b[1;33m\u001b[0m\u001b[0m\n\u001b[0m",
      "\u001b[1;32m<ipython-input-58-af923f9209db>\u001b[0m in \u001b[0;36mfunc1\u001b[1;34m(a, b)\u001b[0m\n\u001b[0;32m      1\u001b[0m \u001b[1;32mdef\u001b[0m \u001b[0mfunc1\u001b[0m\u001b[1;33m(\u001b[0m\u001b[0ma\u001b[0m\u001b[1;33m,\u001b[0m\u001b[0mb\u001b[0m\u001b[1;33m)\u001b[0m\u001b[1;33m:\u001b[0m\u001b[1;33m\u001b[0m\u001b[1;33m\u001b[0m\u001b[0m\n\u001b[1;32m----> 2\u001b[1;33m     \u001b[1;32mreturn\u001b[0m \u001b[0ma\u001b[0m\u001b[1;33m/\u001b[0m\u001b[0mb\u001b[0m\u001b[1;33m\u001b[0m\u001b[1;33m\u001b[0m\u001b[0m\n\u001b[0m",
      "\u001b[1;31mZeroDivisionError\u001b[0m: division by zero"
     ]
    }
   ],
   "source": [
    "print(func1(5,0))"
   ]
  },
  {
   "cell_type": "code",
   "execution_count": 60,
   "metadata": {},
   "outputs": [
    {
     "name": "stdout",
     "output_type": "stream",
     "text": [
      "> \u001b[1;32m<ipython-input-58-af923f9209db>\u001b[0m(2)\u001b[0;36mfunc1\u001b[1;34m()\u001b[0m\n",
      "\u001b[1;32m      1 \u001b[1;33m\u001b[1;32mdef\u001b[0m \u001b[0mfunc1\u001b[0m\u001b[1;33m(\u001b[0m\u001b[0ma\u001b[0m\u001b[1;33m,\u001b[0m\u001b[0mb\u001b[0m\u001b[1;33m)\u001b[0m\u001b[1;33m:\u001b[0m\u001b[1;33m\u001b[0m\u001b[1;33m\u001b[0m\u001b[0m\n",
      "\u001b[0m\u001b[1;32m----> 2 \u001b[1;33m    \u001b[1;32mreturn\u001b[0m \u001b[0ma\u001b[0m\u001b[1;33m/\u001b[0m\u001b[0mb\u001b[0m\u001b[1;33m\u001b[0m\u001b[1;33m\u001b[0m\u001b[0m\n",
      "\u001b[0m\n",
      "ipdb> print(a)\n",
      "5\n",
      "ipdb> print()b\n",
      "*** SyntaxError: invalid syntax\n",
      "ipdb> print(b)\n",
      "0\n",
      "ipdb> quit\n"
     ]
    }
   ],
   "source": [
    "%debug"
   ]
  },
  {
   "cell_type": "code",
   "execution_count": 61,
   "metadata": {},
   "outputs": [
    {
     "name": "stdout",
     "output_type": "stream",
     "text": [
      "> \u001b[1;32m<ipython-input-58-af923f9209db>\u001b[0m(2)\u001b[0;36mfunc1\u001b[1;34m()\u001b[0m\n",
      "\u001b[1;32m      1 \u001b[1;33m\u001b[1;32mdef\u001b[0m \u001b[0mfunc1\u001b[0m\u001b[1;33m(\u001b[0m\u001b[0ma\u001b[0m\u001b[1;33m,\u001b[0m\u001b[0mb\u001b[0m\u001b[1;33m)\u001b[0m\u001b[1;33m:\u001b[0m\u001b[1;33m\u001b[0m\u001b[1;33m\u001b[0m\u001b[0m\n",
      "\u001b[0m\u001b[1;32m----> 2 \u001b[1;33m    \u001b[1;32mreturn\u001b[0m \u001b[0ma\u001b[0m\u001b[1;33m/\u001b[0m\u001b[0mb\u001b[0m\u001b[1;33m\u001b[0m\u001b[1;33m\u001b[0m\u001b[0m\n",
      "\u001b[0m\n",
      "ipdb> up\n",
      "> \u001b[1;32m<ipython-input-59-6daaa70c9569>\u001b[0m(1)\u001b[0;36m<module>\u001b[1;34m()\u001b[0m\n",
      "\u001b[1;32m----> 1 \u001b[1;33m\u001b[0mprint\u001b[0m\u001b[1;33m(\u001b[0m\u001b[0mfunc1\u001b[0m\u001b[1;33m(\u001b[0m\u001b[1;36m5\u001b[0m\u001b[1;33m,\u001b[0m\u001b[1;36m0\u001b[0m\u001b[1;33m)\u001b[0m\u001b[1;33m)\u001b[0m\u001b[1;33m\u001b[0m\u001b[1;33m\u001b[0m\u001b[0m\n",
      "\u001b[0m\n",
      "ipdb> down\n",
      "> \u001b[1;32m<ipython-input-58-af923f9209db>\u001b[0m(2)\u001b[0;36mfunc1\u001b[1;34m()\u001b[0m\n",
      "\u001b[1;32m      1 \u001b[1;33m\u001b[1;32mdef\u001b[0m \u001b[0mfunc1\u001b[0m\u001b[1;33m(\u001b[0m\u001b[0ma\u001b[0m\u001b[1;33m,\u001b[0m\u001b[0mb\u001b[0m\u001b[1;33m)\u001b[0m\u001b[1;33m:\u001b[0m\u001b[1;33m\u001b[0m\u001b[1;33m\u001b[0m\u001b[0m\n",
      "\u001b[0m\u001b[1;32m----> 2 \u001b[1;33m    \u001b[1;32mreturn\u001b[0m \u001b[0ma\u001b[0m\u001b[1;33m/\u001b[0m\u001b[0mb\u001b[0m\u001b[1;33m\u001b[0m\u001b[1;33m\u001b[0m\u001b[0m\n",
      "\u001b[0m\n",
      "ipdb> up\n",
      "> \u001b[1;32m<ipython-input-59-6daaa70c9569>\u001b[0m(1)\u001b[0;36m<module>\u001b[1;34m()\u001b[0m\n",
      "\u001b[1;32m----> 1 \u001b[1;33m\u001b[0mprint\u001b[0m\u001b[1;33m(\u001b[0m\u001b[0mfunc1\u001b[0m\u001b[1;33m(\u001b[0m\u001b[1;36m5\u001b[0m\u001b[1;33m,\u001b[0m\u001b[1;36m0\u001b[0m\u001b[1;33m)\u001b[0m\u001b[1;33m)\u001b[0m\u001b[1;33m\u001b[0m\u001b[1;33m\u001b[0m\u001b[0m\n",
      "\u001b[0m\n",
      "ipdb> down\n",
      "> \u001b[1;32m<ipython-input-58-af923f9209db>\u001b[0m(2)\u001b[0;36mfunc1\u001b[1;34m()\u001b[0m\n",
      "\u001b[1;32m      1 \u001b[1;33m\u001b[1;32mdef\u001b[0m \u001b[0mfunc1\u001b[0m\u001b[1;33m(\u001b[0m\u001b[0ma\u001b[0m\u001b[1;33m,\u001b[0m\u001b[0mb\u001b[0m\u001b[1;33m)\u001b[0m\u001b[1;33m:\u001b[0m\u001b[1;33m\u001b[0m\u001b[1;33m\u001b[0m\u001b[0m\n",
      "\u001b[0m\u001b[1;32m----> 2 \u001b[1;33m    \u001b[1;32mreturn\u001b[0m \u001b[0ma\u001b[0m\u001b[1;33m/\u001b[0m\u001b[0mb\u001b[0m\u001b[1;33m\u001b[0m\u001b[1;33m\u001b[0m\u001b[0m\n",
      "\u001b[0m\n",
      "ipdb> quit\n"
     ]
    }
   ],
   "source": [
    "%debug"
   ]
  },
  {
   "cell_type": "code",
   "execution_count": 5,
   "metadata": {},
   "outputs": [
    {
     "name": "stdout",
     "output_type": "stream",
     "text": [
      "Exception reporting mode: Plain\n",
      "Automatic pdb calling has been turned ON\n"
     ]
    }
   ],
   "source": [
    "%xmode Plain\n",
    "%pdb on"
   ]
  },
  {
   "cell_type": "code",
   "execution_count": 10,
   "metadata": {},
   "outputs": [
    {
     "ename": "ZeroDivisionError",
     "evalue": "division by zero",
     "output_type": "error",
     "traceback": [
      "Traceback \u001b[1;36m(most recent call last)\u001b[0m:\n",
      "  File \u001b[0;32m\"<ipython-input-10-dec721442cea>\"\u001b[0m, line \u001b[0;32m1\u001b[0m, in \u001b[0;35m<module>\u001b[0m\n    print(func1(3,0))\n",
      "\u001b[1;36m  File \u001b[1;32m\"<ipython-input-2-af923f9209db>\"\u001b[1;36m, line \u001b[1;32m2\u001b[1;36m, in \u001b[1;35mfunc1\u001b[1;36m\u001b[0m\n\u001b[1;33m    return a/b\u001b[0m\n",
      "\u001b[1;31mZeroDivisionError\u001b[0m\u001b[1;31m:\u001b[0m division by zero\n"
     ]
    },
    {
     "name": "stdout",
     "output_type": "stream",
     "text": [
      "> \u001b[1;32m<ipython-input-2-af923f9209db>\u001b[0m(2)\u001b[0;36mfunc1\u001b[1;34m()\u001b[0m\n",
      "\u001b[1;32m      1 \u001b[1;33m\u001b[1;32mdef\u001b[0m \u001b[0mfunc1\u001b[0m\u001b[1;33m(\u001b[0m\u001b[0ma\u001b[0m\u001b[1;33m,\u001b[0m\u001b[0mb\u001b[0m\u001b[1;33m)\u001b[0m\u001b[1;33m:\u001b[0m\u001b[1;33m\u001b[0m\u001b[1;33m\u001b[0m\u001b[0m\n",
      "\u001b[0m\u001b[1;32m----> 2 \u001b[1;33m    \u001b[1;32mreturn\u001b[0m \u001b[0ma\u001b[0m\u001b[1;33m/\u001b[0m\u001b[0mb\u001b[0m\u001b[1;33m\u001b[0m\u001b[1;33m\u001b[0m\u001b[0m\n",
      "\u001b[0m\n",
      "ipdb> p\n",
      "*** SyntaxError: unexpected EOF while parsing\n",
      "ipdb> p(a)\n",
      "3\n",
      "ipdb> list\n",
      "\u001b[0;32m      1 \u001b[0m\u001b[1;32mdef\u001b[0m \u001b[0mfunc1\u001b[0m\u001b[1;33m(\u001b[0m\u001b[0ma\u001b[0m\u001b[1;33m,\u001b[0m\u001b[0mb\u001b[0m\u001b[1;33m)\u001b[0m\u001b[1;33m:\u001b[0m\u001b[1;33m\u001b[0m\u001b[1;33m\u001b[0m\u001b[0m\n",
      "\u001b[1;32m----> 2 \u001b[1;33m    \u001b[1;32mreturn\u001b[0m \u001b[0ma\u001b[0m\u001b[1;33m/\u001b[0m\u001b[0mb\u001b[0m\u001b[1;33m\u001b[0m\u001b[1;33m\u001b[0m\u001b[0m\n",
      "\u001b[0m\n",
      "ipdb> \n",
      "\n",
      "ipdb> p(a)\n",
      "3\n",
      "ipdb> \n",
      "3\n",
      "ipdb> q\n"
     ]
    }
   ],
   "source": [
    "print(func1(3,0))"
   ]
  },
  {
   "cell_type": "code",
   "execution_count": 9,
   "metadata": {},
   "outputs": [
    {
     "name": "stderr",
     "output_type": "stream",
     "text": [
      "UsageError: Line magic function `%list` not found.\n"
     ]
    }
   ],
   "source": []
  },
  {
   "cell_type": "code",
   "execution_count": null,
   "metadata": {},
   "outputs": [],
   "source": []
  }
 ],
 "metadata": {
  "kernelspec": {
   "display_name": "Python 3",
   "language": "python",
   "name": "python3"
  },
  "language_info": {
   "codemirror_mode": {
    "name": "ipython",
    "version": 3
   },
   "file_extension": ".py",
   "mimetype": "text/x-python",
   "name": "python",
   "nbconvert_exporter": "python",
   "pygments_lexer": "ipython3",
   "version": "3.6.9"
  }
 },
 "nbformat": 4,
 "nbformat_minor": 2
}
